{
 "cells": [
  {
   "cell_type": "code",
   "execution_count": 1,
   "id": "7b866e90-0464-434a-ae68-2abc267cc726",
   "metadata": {},
   "outputs": [
    {
     "data": {
      "text/plain": [
       "'3.13.5 | packaged by Anaconda, Inc. | (main, Jun 12 2025, 16:37:03) [MSC v.1929 64 bit (AMD64)]'"
      ]
     },
     "execution_count": 1,
     "metadata": {},
     "output_type": "execute_result"
    }
   ],
   "source": [
    "import sys\n",
    "sys.version"
   ]
  },
  {
   "cell_type": "code",
   "execution_count": null,
   "id": "c92cec24-a90b-465a-8bc0-ec7fba7c9a86",
   "metadata": {},
   "outputs": [],
   "source": [
    "Python Programming\n",
    "---------------------\n",
    "Python - CPython - GlobalInterpreterLock(GIL) is enabled  - python.org\n",
    "  Vs                                                        \n",
    "IPython Jython Pypy .. GIL is disabled \n",
    "\n",
    "Python Programming \n",
    "--------------------\n",
    " |-> Class and Object design model\n",
    "\n",
    "10 11 -10 -9 11 244323424242424242 //int \n",
    "10.0 //float \n",
    "'a' //str \n",
    "'b' //str\n",
    "\n",
    "In Other program\n",
    "----------------\n",
    "int a  = 10;   a | 10 | 0x1000\n",
    "int b  = 10;   b | 10 | 0x1004\n",
    "int c  = 10;   c | 10 | 0x1008\n",
    "\n",
    "Vs\n",
    "In python\n",
    "----------\n",
    " a = 10          a | 10 | 0x1234\n",
    " b = 10          b |    | ..\n",
    " c = 3+7         c |    | ..\n",
    "\n",
    " a = a+1        a | 11 | 0x345"
   ]
  },
  {
   "cell_type": "code",
   "execution_count": 3,
   "id": "ef4f9617-3d71-45e4-92ca-4866df905fd8",
   "metadata": {},
   "outputs": [
    {
     "data": {
      "text/plain": [
       "'0x7ff92ce9b4c8'"
      ]
     },
     "execution_count": 3,
     "metadata": {},
     "output_type": "execute_result"
    }
   ],
   "source": [
    "hex(id(10))"
   ]
  },
  {
   "cell_type": "code",
   "execution_count": 4,
   "id": "ca3461e0-0e77-4165-ac8a-f0347f19c8e3",
   "metadata": {},
   "outputs": [
    {
     "name": "stdout",
     "output_type": "stream",
     "text": [
      "0x7ff92ce9b4c8 0x7ff92ce9b4c8 0x7ff92ce9b4c8\n"
     ]
    }
   ],
   "source": [
    "a = 10\n",
    "b = 3+7\n",
    "c = 2+8\n",
    "print(hex(id(a)),hex(id(b)),hex(id(c)))"
   ]
  },
  {
   "cell_type": "code",
   "execution_count": null,
   "id": "ef67a756-1714-4bbc-9730-2bd91e7d8271",
   "metadata": {},
   "outputs": [],
   "source": [
    "# python.org --> python - we can do python programming\n",
    "# pip install numpy\n",
    "# pip install pandas \n",
    "# pip install matplotlib\n",
    "Vs\n",
    "anaconda python => we can do python programming + ML Libs are available "
   ]
  },
  {
   "cell_type": "code",
   "execution_count": null,
   "id": "0ab72154-d656-4909-9ee3-ef1603434a2d",
   "metadata": {},
   "outputs": [],
   "source": [
    "Python program we can write 3 ways (styles)\n",
    "=============================================\n",
    "1. Procedure style        - direct approach style  ( var = 10 ; def fx()  fx() ..)\n",
    "2. Object oriented style  - object based approach  obj.var = 10 ; obj.fx() //methodCall\n",
    "3. Functional style (or) Expression style - single line code "
   ]
  },
  {
   "cell_type": "code",
   "execution_count": 5,
   "id": "e4cbbc8b-d118-4143-8fd6-88910f94e5e0",
   "metadata": {},
   "outputs": [
    {
     "name": "stdout",
     "output_type": "stream",
     "text": [
      "[110, 120, 130, 140, 150]\n"
     ]
    }
   ],
   "source": [
    "L = [] \n",
    "def f1(a):\n",
    "    return a+100\n",
    "\n",
    "for var in [10,20,30,40,50]:\n",
    "    r = f1(var)\n",
    "    L.append(r)\n",
    "\n",
    "print(L)"
   ]
  },
  {
   "cell_type": "code",
   "execution_count": 6,
   "id": "d57516fb-55f7-4ba8-b0c7-be1be1a183e1",
   "metadata": {},
   "outputs": [
    {
     "data": {
      "text/plain": [
       "[110, 120, 130, 140, 150]"
      ]
     },
     "execution_count": 6,
     "metadata": {},
     "output_type": "execute_result"
    }
   ],
   "source": [
    "list(map(lambda a:a+100,[10,20,30,40,50]))"
   ]
  },
  {
   "cell_type": "code",
   "execution_count": null,
   "id": "5e03e29b-1464-48f4-8c16-a65d9c379e52",
   "metadata": {},
   "outputs": [],
   "source": [
    "Python native class/type\n",
    "int float complex bool (True False) NoneType None\n",
    "\n",
    "str bytes list tuple - collection of items - index based \n",
    "          ==== -----\n",
    "dict - collection of items - key:value \n",
    "====\n",
    "set - collection of unorderd items (or) list of keys - There is No Index ; No Key:Value //pair\n",
    "\n",
    "Python is dynamic type programming \n",
    "variable = value - we can initialize variable = value any where in the code \n",
    "NameError  <--\n",
    "-----------"
   ]
  },
  {
   "cell_type": "code",
   "execution_count": 9,
   "id": "778af0b1-1402-4fff-82da-05fd591407eb",
   "metadata": {},
   "outputs": [
    {
     "name": "stdout",
     "output_type": "stream",
     "text": [
      "fastApi\n",
      "app\n"
     ]
    },
    {
     "ename": "NameError",
     "evalue": "name 'App' is not defined",
     "output_type": "error",
     "traceback": [
      "\u001b[1;31m---------------------------------------------------------------------------\u001b[0m",
      "\u001b[1;31mNameError\u001b[0m                                 Traceback (most recent call last)",
      "Cell \u001b[1;32mIn[9], line 7\u001b[0m\n\u001b[0;32m      5\u001b[0m \u001b[38;5;28mprint\u001b[39m(app)\n\u001b[0;32m      6\u001b[0m \u001b[38;5;28mprint\u001b[39m(\u001b[38;5;124m'\u001b[39m\u001b[38;5;124mapp\u001b[39m\u001b[38;5;124m'\u001b[39m)\n\u001b[1;32m----> 7\u001b[0m \u001b[38;5;28mprint\u001b[39m(App)\n",
      "\u001b[1;31mNameError\u001b[0m: name 'App' is not defined"
     ]
    }
   ],
   "source": [
    "app = 'fastApi'\n",
    "port = 5500\n",
    "utilization = 98.42\n",
    "status = True\n",
    "print(app)\n",
    "print('app')\n",
    "print(App)"
   ]
  },
  {
   "cell_type": "code",
   "execution_count": 10,
   "id": "54639a1d-7c38-42c1-9652-fc352570127d",
   "metadata": {},
   "outputs": [
    {
     "name": "stdout",
     "output_type": "stream",
     "text": [
      "App name is: fastApi Running port number: 5500 App utilization: 98.42\n",
      "App name is:fastApi Running port number:5500 App utilization:98.420000\n",
      "App name is:fastApi Running port number:5500 App utilization:98.42\n",
      "App name is:fastApi Running port number:5500 App utilization:98.42\n"
     ]
    }
   ],
   "source": [
    "app = 'fastApi'\n",
    "port = 5500\n",
    "utilization = 98.42\n",
    "status = True\n",
    "\n",
    "print('App name is:',app,'Running port number:',port,'App utilization:',utilization) # 1way\n",
    "print('App name is:%s Running port number:%d App utilization:%f'%(app,port,utilization)) # 2way\n",
    "print('App name is:{} Running port number:{} App utilization:{}'.format(app,port,utilization)) # 3rd 2.7updated\n",
    "# Vs\n",
    "print(f'App name is:{app} Running port number:{port} App utilization:{utilization}') # 4th way"
   ]
  },
  {
   "cell_type": "code",
   "execution_count": 11,
   "id": "39a84b77-f212-428f-a54b-1c84619187c5",
   "metadata": {},
   "outputs": [
    {
     "name": "stdin",
     "output_type": "stream",
     "text": [
      "Enter an app name: Flask\n",
      "Enter Flask port number: 5000\n",
      "Enter Flask Utilization value: 89.56\n"
     ]
    },
    {
     "name": "stdout",
     "output_type": "stream",
     "text": [
      "App name is:Flask Running port number:5000 App utilization:89.56\n"
     ]
    }
   ],
   "source": [
    "# input() - interface to keyboard \n",
    "# variable = input('user defined prompt message')\n",
    "# --------          |________ STDOUT _________|\n",
    "#  <STDIN>\n",
    "\n",
    "app = input('Enter an app name:')\n",
    "port = input(f'Enter {app} port number:')\n",
    "utilization = input(f'Enter {app} Utilization value:')\n",
    "\n",
    "print(f'App name is:{app} Running port number:{port} App utilization:{utilization}')"
   ]
  },
  {
   "cell_type": "code",
   "execution_count": null,
   "id": "ba97946f-0a08-42fe-b1b8-909f5c1aa758",
   "metadata": {},
   "outputs": [],
   "source": [
    "Python - Conditional statement - Code block - execute only one time.\n",
    "\n",
    "python arithmetic operators + - * // / **  -->int/float\n",
    "\n",
    "python relational == != < <= > >=  --->bool \n",
    "python logical and or not   --->bool\n",
    "python membership in not in ---->bool\n",
    "  <or>\n",
    "any method/function ---->bool\n",
    "                =============================//Conditional statement \n",
    "\n",
    "if(condition):\n",
    "    <True block>\n",
    "\n",
    "if(condition):\n",
    "    <True block>\n",
    "else:\n",
    "    <False block>\n",
    "\n",
    "if(condition1):\n",
    "    ..\n",
    "elif(condition2):\n",
    "    ..\n",
    "elif(condition3):\n",
    "    ..\n",
    "..\n",
    "elif(conditionN):\n",
    "    ..\n",
    "else:\n",
    "    ..."
   ]
  },
  {
   "cell_type": "code",
   "execution_count": null,
   "id": "23d34ada-9e8f-4170-9c89-40834b90cca6",
   "metadata": {},
   "outputs": [],
   "source": [
    "Read a app name - test input App name is Flask -> 5000\n",
    "                  Not Flask ->  8080\n",
    "display - app name and port number"
   ]
  },
  {
   "cell_type": "code",
   "execution_count": 12,
   "id": "110d7238-08b1-4f41-81ce-812e8a7adcdc",
   "metadata": {},
   "outputs": [
    {
     "name": "stdin",
     "output_type": "stream",
     "text": [
      "Enter an app name: Flask\n"
     ]
    },
    {
     "name": "stdout",
     "output_type": "stream",
     "text": [
      "App name is:Flask running port number:5000\n"
     ]
    }
   ],
   "source": [
    "app = input('Enter an app name:')\n",
    "\n",
    "if(app == 'Flask'):\n",
    "    port = 5000\n",
    "else:\n",
    "    port = 8080\n",
    "\n",
    "print(f'App name is:{app} running port number:{port}')"
   ]
  },
  {
   "cell_type": "code",
   "execution_count": 13,
   "id": "a81f857f-2957-4658-ad36-f85afd3969b4",
   "metadata": {},
   "outputs": [
    {
     "name": "stdin",
     "output_type": "stream",
     "text": [
      "Enter an app name: Django\n"
     ]
    },
    {
     "name": "stdout",
     "output_type": "stream",
     "text": [
      "App name is:Django running port number:8080\n"
     ]
    }
   ],
   "source": [
    "app = input('Enter an app name:')\n",
    "\n",
    "if(app == 'Flask'):\n",
    "    port = 5000\n",
    "else:\n",
    "    port = 8080\n",
    "\n",
    "print(f'App name is:{app} running port number:{port}')"
   ]
  },
  {
   "cell_type": "code",
   "execution_count": null,
   "id": "963d91f8-7f60-4da3-b107-16dbc377fa45",
   "metadata": {},
   "outputs": [],
   "source": [
    "Python support looping statements\n",
    "------------------------------------\n",
    "1. Conditional style loop - based on bool True value - while\n",
    "  initialization ->condition ->aritmethic             \n",
    "\n",
    "2. Collection style loop - based on the number of items(Collection) - for"
   ]
  },
  {
   "cell_type": "code",
   "execution_count": 14,
   "id": "7e3ac198-e76f-46cf-aad4-60dccfd4b335",
   "metadata": {},
   "outputs": [
    {
     "name": "stdout",
     "output_type": "stream",
     "text": [
      "Test data...0\n",
      "Test data...1\n",
      "Test data...2\n",
      "Test data...3\n",
      "Test data...4\n"
     ]
    }
   ],
   "source": [
    "i=0\n",
    "while(i < 5):\n",
    "    print(f'Test data...{i}')\n",
    "    i=i+1"
   ]
  },
  {
   "cell_type": "code",
   "execution_count": 15,
   "id": "abe4ae8c-c95c-4917-be81-a485acf69bba",
   "metadata": {},
   "outputs": [],
   "source": [
    "while(False):\n",
    "    print(\"Hello\")"
   ]
  },
  {
   "cell_type": "code",
   "execution_count": null,
   "id": "c28dc815-8401-460e-934a-90bb4f384a19",
   "metadata": {},
   "outputs": [],
   "source": [
    "break exit from loop\n",
    "continue won't exit from loop"
   ]
  },
  {
   "cell_type": "code",
   "execution_count": 16,
   "id": "3b4b8e21-098f-4857-99fb-e1a05878ffdf",
   "metadata": {},
   "outputs": [
    {
     "name": "stdout",
     "output_type": "stream",
     "text": [
      "Test data..a\n",
      "Test data..b\n",
      "Test data..c\n"
     ]
    }
   ],
   "source": [
    "for var in 'abc':\n",
    "    print(f'Test data..{var}')"
   ]
  },
  {
   "cell_type": "code",
   "execution_count": 17,
   "id": "2f58b0a7-b6b2-4cd9-8f3f-e338d323ec4f",
   "metadata": {},
   "outputs": [],
   "source": [
    "app = 'Flask'\n",
    "port = 5000\n",
    "util = 98.34\n",
    "status = True\n",
    "##########################################\n",
    "app_info1 = ['Flask',5000,98.34,True] # list - collection of items - index based - mutable\n",
    "\n",
    "app_info2 = ('Flask',5000,98.34,True) # tuple - collection of items - index based - immutable \n",
    "\n",
    "app_info3 = {'K1':'Flask','K2':5000,'K3':True} # dict - collection of items - key:value - mutable "
   ]
  },
  {
   "cell_type": "code",
   "execution_count": 19,
   "id": "a613f389-f48c-4154-a520-35c2abea5897",
   "metadata": {},
   "outputs": [
    {
     "name": "stdout",
     "output_type": "stream",
     "text": [
      "['Flask', 5000, 98.34, True]\n",
      "('Flask', 5000, 98.34, True)\n",
      "{'K1': 'Flask', 'K2': 5000, 'K3': True}\n"
     ]
    }
   ],
   "source": [
    "print(app_info1)\n",
    "print(app_info2)\n",
    "print(app_info3)"
   ]
  },
  {
   "cell_type": "code",
   "execution_count": 20,
   "id": "ad4b7b8b-60a6-4e4c-85db-6bb7ceb24f6a",
   "metadata": {},
   "outputs": [
    {
     "name": "stdout",
     "output_type": "stream",
     "text": [
      "Flask\n",
      "Flask\n",
      "Flask\n"
     ]
    }
   ],
   "source": [
    "print(app_info1[0])\n",
    "print(app_info2[0])\n",
    "print(app_info3['K1'])"
   ]
  },
  {
   "cell_type": "code",
   "execution_count": null,
   "id": "d5fbe70a-f8d6-45fb-983f-c9b22c1be720",
   "metadata": {},
   "outputs": [],
   "source": []
  }
 ],
 "metadata": {
  "kernelspec": {
   "display_name": "Python [conda env:base] *",
   "language": "python",
   "name": "conda-base-py"
  },
  "language_info": {
   "codemirror_mode": {
    "name": "ipython",
    "version": 3
   },
   "file_extension": ".py",
   "mimetype": "text/x-python",
   "name": "python",
   "nbconvert_exporter": "python",
   "pygments_lexer": "ipython3",
   "version": "3.13.5"
  }
 },
 "nbformat": 4,
 "nbformat_minor": 5
}
