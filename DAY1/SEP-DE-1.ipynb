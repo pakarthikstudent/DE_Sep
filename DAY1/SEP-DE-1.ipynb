{
 "cells": [
  {
   "cell_type": "code",
   "execution_count": 1,
   "id": "7b866e90-0464-434a-ae68-2abc267cc726",
   "metadata": {},
   "outputs": [
    {
     "data": {
      "text/plain": [
       "'3.13.5 | packaged by Anaconda, Inc. | (main, Jun 12 2025, 16:37:03) [MSC v.1929 64 bit (AMD64)]'"
      ]
     },
     "execution_count": 1,
     "metadata": {},
     "output_type": "execute_result"
    }
   ],
   "source": [
    "import sys\n",
    "sys.version"
   ]
  },
  {
   "cell_type": "code",
   "execution_count": null,
   "id": "c92cec24-a90b-465a-8bc0-ec7fba7c9a86",
   "metadata": {},
   "outputs": [],
   "source": [
    "Python Programming\n",
    "---------------------\n",
    "Python - CPython - GlobalInterpreterLock(GIL) is enabled  - python.org\n",
    "  Vs                                                        \n",
    "IPython Jython Pypy .. GIL is disabled \n",
    "\n",
    "Python Programming \n",
    "--------------------\n",
    " |-> Class and Object design model\n",
    "\n",
    "10 11 -10 -9 11 244323424242424242 //int \n",
    "10.0 //float \n",
    "'a' //str \n",
    "'b' //str\n",
    "\n",
    "In Other program\n",
    "----------------\n",
    "int a  = 10;   a | 10 | 0x1000\n",
    "int b  = 10;   b | 10 | 0x1004\n",
    "int c  = 10;   c | 10 | 0x1008\n",
    "\n",
    "Vs\n",
    "In python\n",
    "----------\n",
    " a = 10          a | 10 | 0x1234\n",
    " b = 10          b |    | ..\n",
    " c = 3+7         c |    | ..\n",
    "\n",
    " a = a+1        a | 11 | 0x345"
   ]
  },
  {
   "cell_type": "code",
   "execution_count": 3,
   "id": "ef4f9617-3d71-45e4-92ca-4866df905fd8",
   "metadata": {},
   "outputs": [
    {
     "data": {
      "text/plain": [
       "'0x7ff92ce9b4c8'"
      ]
     },
     "execution_count": 3,
     "metadata": {},
     "output_type": "execute_result"
    }
   ],
   "source": [
    "hex(id(10))"
   ]
  },
  {
   "cell_type": "code",
   "execution_count": 4,
   "id": "ca3461e0-0e77-4165-ac8a-f0347f19c8e3",
   "metadata": {},
   "outputs": [
    {
     "name": "stdout",
     "output_type": "stream",
     "text": [
      "0x7ff92ce9b4c8 0x7ff92ce9b4c8 0x7ff92ce9b4c8\n"
     ]
    }
   ],
   "source": [
    "a = 10\n",
    "b = 3+7\n",
    "c = 2+8\n",
    "print(hex(id(a)),hex(id(b)),hex(id(c)))"
   ]
  },
  {
   "cell_type": "code",
   "execution_count": null,
   "id": "ef67a756-1714-4bbc-9730-2bd91e7d8271",
   "metadata": {},
   "outputs": [],
   "source": [
    "# python.org --> python - we can do python programming\n",
    "# pip install numpy\n",
    "# pip install pandas \n",
    "# pip install matplotlib\n",
    "Vs\n",
    "anaconda python => we can do python programming + ML Libs are available "
   ]
  },
  {
   "cell_type": "code",
   "execution_count": null,
   "id": "0ab72154-d656-4909-9ee3-ef1603434a2d",
   "metadata": {},
   "outputs": [],
   "source": [
    "Python program we can write 3 ways (styles)\n",
    "=============================================\n",
    "1. Procedure style        - direct approach style  ( var = 10 ; def fx()  fx() ..)\n",
    "2. Object oriented style  - object based approach  obj.var = 10 ; obj.fx() //methodCall\n",
    "3. Functional style (or) Expression style - single line code "
   ]
  },
  {
   "cell_type": "code",
   "execution_count": 5,
   "id": "e4cbbc8b-d118-4143-8fd6-88910f94e5e0",
   "metadata": {},
   "outputs": [
    {
     "name": "stdout",
     "output_type": "stream",
     "text": [
      "[110, 120, 130, 140, 150]\n"
     ]
    }
   ],
   "source": [
    "L = [] \n",
    "def f1(a):\n",
    "    return a+100\n",
    "\n",
    "for var in [10,20,30,40,50]:\n",
    "    r = f1(var)\n",
    "    L.append(r)\n",
    "\n",
    "print(L)"
   ]
  },
  {
   "cell_type": "code",
   "execution_count": 6,
   "id": "d57516fb-55f7-4ba8-b0c7-be1be1a183e1",
   "metadata": {},
   "outputs": [
    {
     "data": {
      "text/plain": [
       "[110, 120, 130, 140, 150]"
      ]
     },
     "execution_count": 6,
     "metadata": {},
     "output_type": "execute_result"
    }
   ],
   "source": [
    "list(map(lambda a:a+100,[10,20,30,40,50]))"
   ]
  },
  {
   "cell_type": "code",
   "execution_count": null,
   "id": "5e03e29b-1464-48f4-8c16-a65d9c379e52",
   "metadata": {},
   "outputs": [],
   "source": [
    "Python native class/type\n",
    "int float complex bool (True False) NoneType None\n",
    "\n",
    "str bytes list tuple - collection of items - index based \n",
    "          ==== -----\n",
    "dict - collection of items - key:value \n",
    "====\n",
    "set - collection of unorderd items (or) list of keys - There is No Index ; No Key:Value //pair\n",
    "\n",
    "Python is dynamic type programming \n",
    "variable = value - we can initialize variable = value any where in the code \n",
    "NameError  <--\n",
    "-----------"
   ]
  },
  {
   "cell_type": "code",
   "execution_count": 9,
   "id": "778af0b1-1402-4fff-82da-05fd591407eb",
   "metadata": {},
   "outputs": [
    {
     "name": "stdout",
     "output_type": "stream",
     "text": [
      "fastApi\n",
      "app\n"
     ]
    },
    {
     "ename": "NameError",
     "evalue": "name 'App' is not defined",
     "output_type": "error",
     "traceback": [
      "\u001b[1;31m---------------------------------------------------------------------------\u001b[0m",
      "\u001b[1;31mNameError\u001b[0m                                 Traceback (most recent call last)",
      "Cell \u001b[1;32mIn[9], line 7\u001b[0m\n\u001b[0;32m      5\u001b[0m \u001b[38;5;28mprint\u001b[39m(app)\n\u001b[0;32m      6\u001b[0m \u001b[38;5;28mprint\u001b[39m(\u001b[38;5;124m'\u001b[39m\u001b[38;5;124mapp\u001b[39m\u001b[38;5;124m'\u001b[39m)\n\u001b[1;32m----> 7\u001b[0m \u001b[38;5;28mprint\u001b[39m(App)\n",
      "\u001b[1;31mNameError\u001b[0m: name 'App' is not defined"
     ]
    }
   ],
   "source": [
    "app = 'fastApi'\n",
    "port = 5500\n",
    "utilization = 98.42\n",
    "status = True\n",
    "print(app)\n",
    "print('app')\n",
    "print(App)"
   ]
  },
  {
   "cell_type": "code",
   "execution_count": 10,
   "id": "54639a1d-7c38-42c1-9652-fc352570127d",
   "metadata": {},
   "outputs": [
    {
     "name": "stdout",
     "output_type": "stream",
     "text": [
      "App name is: fastApi Running port number: 5500 App utilization: 98.42\n",
      "App name is:fastApi Running port number:5500 App utilization:98.420000\n",
      "App name is:fastApi Running port number:5500 App utilization:98.42\n",
      "App name is:fastApi Running port number:5500 App utilization:98.42\n"
     ]
    }
   ],
   "source": [
    "app = 'fastApi'\n",
    "port = 5500\n",
    "utilization = 98.42\n",
    "status = True\n",
    "\n",
    "print('App name is:',app,'Running port number:',port,'App utilization:',utilization) # 1way\n",
    "print('App name is:%s Running port number:%d App utilization:%f'%(app,port,utilization)) # 2way\n",
    "print('App name is:{} Running port number:{} App utilization:{}'.format(app,port,utilization)) # 3rd 2.7updated\n",
    "# Vs\n",
    "print(f'App name is:{app} Running port number:{port} App utilization:{utilization}') # 4th way"
   ]
  },
  {
   "cell_type": "code",
   "execution_count": 11,
   "id": "39a84b77-f212-428f-a54b-1c84619187c5",
   "metadata": {},
   "outputs": [
    {
     "name": "stdin",
     "output_type": "stream",
     "text": [
      "Enter an app name: Flask\n",
      "Enter Flask port number: 5000\n",
      "Enter Flask Utilization value: 89.56\n"
     ]
    },
    {
     "name": "stdout",
     "output_type": "stream",
     "text": [
      "App name is:Flask Running port number:5000 App utilization:89.56\n"
     ]
    }
   ],
   "source": [
    "# input() - interface to keyboard \n",
    "# variable = input('user defined prompt message')\n",
    "# --------          |________ STDOUT _________|\n",
    "#  <STDIN>\n",
    "\n",
    "app = input('Enter an app name:')\n",
    "port = input(f'Enter {app} port number:')\n",
    "utilization = input(f'Enter {app} Utilization value:')\n",
    "\n",
    "print(f'App name is:{app} Running port number:{port} App utilization:{utilization}')"
   ]
  },
  {
   "cell_type": "code",
   "execution_count": null,
   "id": "ba97946f-0a08-42fe-b1b8-909f5c1aa758",
   "metadata": {},
   "outputs": [],
   "source": [
    "Python - Conditional statement - Code block - execute only one time.\n",
    "\n",
    "python arithmetic operators + - * // / **  -->int/float\n",
    "\n",
    "python relational == != < <= > >=  --->bool \n",
    "python logical and or not   --->bool\n",
    "python membership in not in ---->bool\n",
    "  <or>\n",
    "any method/function ---->bool\n",
    "                =============================//Conditional statement \n",
    "\n",
    "if(condition):\n",
    "    <True block>\n",
    "\n",
    "if(condition):\n",
    "    <True block>\n",
    "else:\n",
    "    <False block>\n",
    "\n",
    "if(condition1):\n",
    "    ..\n",
    "elif(condition2):\n",
    "    ..\n",
    "elif(condition3):\n",
    "    ..\n",
    "..\n",
    "elif(conditionN):\n",
    "    ..\n",
    "else:\n",
    "    ..."
   ]
  },
  {
   "cell_type": "code",
   "execution_count": null,
   "id": "23d34ada-9e8f-4170-9c89-40834b90cca6",
   "metadata": {},
   "outputs": [],
   "source": [
    "Read a app name - test input App name is Flask -> 5000\n",
    "                  Not Flask ->  8080\n",
    "display - app name and port number"
   ]
  },
  {
   "cell_type": "code",
   "execution_count": 12,
   "id": "110d7238-08b1-4f41-81ce-812e8a7adcdc",
   "metadata": {},
   "outputs": [
    {
     "name": "stdin",
     "output_type": "stream",
     "text": [
      "Enter an app name: Flask\n"
     ]
    },
    {
     "name": "stdout",
     "output_type": "stream",
     "text": [
      "App name is:Flask running port number:5000\n"
     ]
    }
   ],
   "source": [
    "app = input('Enter an app name:')\n",
    "\n",
    "if(app == 'Flask'):\n",
    "    port = 5000\n",
    "else:\n",
    "    port = 8080\n",
    "\n",
    "print(f'App name is:{app} running port number:{port}')"
   ]
  },
  {
   "cell_type": "code",
   "execution_count": 13,
   "id": "a81f857f-2957-4658-ad36-f85afd3969b4",
   "metadata": {},
   "outputs": [
    {
     "name": "stdin",
     "output_type": "stream",
     "text": [
      "Enter an app name: Django\n"
     ]
    },
    {
     "name": "stdout",
     "output_type": "stream",
     "text": [
      "App name is:Django running port number:8080\n"
     ]
    }
   ],
   "source": [
    "app = input('Enter an app name:')\n",
    "\n",
    "if(app == 'Flask'):\n",
    "    port = 5000\n",
    "else:\n",
    "    port = 8080\n",
    "\n",
    "print(f'App name is:{app} running port number:{port}')"
   ]
  },
  {
   "cell_type": "code",
   "execution_count": null,
   "id": "963d91f8-7f60-4da3-b107-16dbc377fa45",
   "metadata": {},
   "outputs": [],
   "source": [
    "Python support looping statements\n",
    "------------------------------------\n",
    "1. Conditional style loop - based on bool True value - while\n",
    "  initialization ->condition ->aritmethic             \n",
    "\n",
    "2. Collection style loop - based on the number of items(Collection) - for"
   ]
  },
  {
   "cell_type": "code",
   "execution_count": 14,
   "id": "7e3ac198-e76f-46cf-aad4-60dccfd4b335",
   "metadata": {},
   "outputs": [
    {
     "name": "stdout",
     "output_type": "stream",
     "text": [
      "Test data...0\n",
      "Test data...1\n",
      "Test data...2\n",
      "Test data...3\n",
      "Test data...4\n"
     ]
    }
   ],
   "source": [
    "i=0\n",
    "while(i < 5):\n",
    "    print(f'Test data...{i}')\n",
    "    i=i+1"
   ]
  },
  {
   "cell_type": "code",
   "execution_count": 15,
   "id": "abe4ae8c-c95c-4917-be81-a485acf69bba",
   "metadata": {},
   "outputs": [],
   "source": [
    "while(False):\n",
    "    print(\"Hello\")"
   ]
  },
  {
   "cell_type": "code",
   "execution_count": null,
   "id": "c28dc815-8401-460e-934a-90bb4f384a19",
   "metadata": {},
   "outputs": [],
   "source": [
    "break exit from loop\n",
    "continue won't exit from loop"
   ]
  },
  {
   "cell_type": "code",
   "execution_count": 16,
   "id": "3b4b8e21-098f-4857-99fb-e1a05878ffdf",
   "metadata": {},
   "outputs": [
    {
     "name": "stdout",
     "output_type": "stream",
     "text": [
      "Test data..a\n",
      "Test data..b\n",
      "Test data..c\n"
     ]
    }
   ],
   "source": [
    "for var in 'abc':\n",
    "    print(f'Test data..{var}')"
   ]
  },
  {
   "cell_type": "code",
   "execution_count": 17,
   "id": "2f58b0a7-b6b2-4cd9-8f3f-e338d323ec4f",
   "metadata": {},
   "outputs": [],
   "source": [
    "app = 'Flask'\n",
    "port = 5000\n",
    "util = 98.34\n",
    "status = True\n",
    "##########################################\n",
    "app_info1 = ['Flask',5000,98.34,True] # list - collection of items - index based - mutable\n",
    "\n",
    "app_info2 = ('Flask',5000,98.34,True) # tuple - collection of items - index based - immutable \n",
    "\n",
    "app_info3 = {'K1':'Flask','K2':5000,'K3':True} # dict - collection of items - key:value - mutable "
   ]
  },
  {
   "cell_type": "code",
   "execution_count": 19,
   "id": "a613f389-f48c-4154-a520-35c2abea5897",
   "metadata": {},
   "outputs": [
    {
     "name": "stdout",
     "output_type": "stream",
     "text": [
      "['Flask', 5000, 98.34, True]\n",
      "('Flask', 5000, 98.34, True)\n",
      "{'K1': 'Flask', 'K2': 5000, 'K3': True}\n"
     ]
    }
   ],
   "source": [
    "print(app_info1)\n",
    "print(app_info2)\n",
    "print(app_info3)"
   ]
  },
  {
   "cell_type": "code",
   "execution_count": 20,
   "id": "ad4b7b8b-60a6-4e4c-85db-6bb7ceb24f6a",
   "metadata": {},
   "outputs": [
    {
     "name": "stdout",
     "output_type": "stream",
     "text": [
      "Flask\n",
      "Flask\n",
      "Flask\n"
     ]
    }
   ],
   "source": [
    "print(app_info1[0])\n",
    "print(app_info2[0])\n",
    "print(app_info3['K1'])"
   ]
  },
  {
   "cell_type": "code",
   "execution_count": 21,
   "id": "d5fbe70a-f8d6-45fb-983f-c9b22c1be720",
   "metadata": {},
   "outputs": [
    {
     "name": "stdout",
     "output_type": "stream",
     "text": [
      "['productA', 'p-123', 4590.32, 89.54]\n"
     ]
    }
   ],
   "source": [
    "# list - collection of items - index - mutable(we can add/modify/delete) \n",
    "\n",
    "L = [] # empty list\n",
    "\n",
    "L.append('productA')\n",
    "L.append('p-123')\n",
    "L.append(4590.32)\n",
    "L.append(89.54)\n",
    "print(L)"
   ]
  },
  {
   "cell_type": "code",
   "execution_count": 22,
   "id": "82b7a5fb-7edf-4b16-b47e-6b01cafafb0d",
   "metadata": {},
   "outputs": [],
   "source": [
    "L.insert(1,'pB')"
   ]
  },
  {
   "cell_type": "code",
   "execution_count": 23,
   "id": "5eb97d6d-c5de-4fb3-80df-d7aee509b57f",
   "metadata": {},
   "outputs": [
    {
     "data": {
      "text/plain": [
       "['productA', 'pB', 'p-123', 4590.32, 89.54]"
      ]
     },
     "execution_count": 23,
     "metadata": {},
     "output_type": "execute_result"
    }
   ],
   "source": [
    "L"
   ]
  },
  {
   "cell_type": "code",
   "execution_count": 24,
   "id": "74e2ba71-9671-4b17-a77b-c79bdbad3057",
   "metadata": {},
   "outputs": [
    {
     "data": {
      "text/plain": [
       "'p-123'"
      ]
     },
     "execution_count": 24,
     "metadata": {},
     "output_type": "execute_result"
    }
   ],
   "source": [
    "L[2]"
   ]
  },
  {
   "cell_type": "code",
   "execution_count": 25,
   "id": "b14bd969-28db-4247-aa19-e0e948e8441f",
   "metadata": {},
   "outputs": [],
   "source": [
    "L[2]='Data-2' # we can modify "
   ]
  },
  {
   "cell_type": "code",
   "execution_count": 26,
   "id": "44114993-f3f9-400b-b201-f543c393ce91",
   "metadata": {},
   "outputs": [
    {
     "name": "stdout",
     "output_type": "stream",
     "text": [
      "['productA', 'pB', 'Data-2', 4590.32, 89.54]\n"
     ]
    }
   ],
   "source": [
    "print(L)"
   ]
  },
  {
   "cell_type": "code",
   "execution_count": 27,
   "id": "ddbf53d9-293a-4aeb-aadf-e1ff1744c7ff",
   "metadata": {},
   "outputs": [
    {
     "data": {
      "text/plain": [
       "89.54"
      ]
     },
     "execution_count": 27,
     "metadata": {},
     "output_type": "execute_result"
    }
   ],
   "source": [
    "L.pop() # remove last value"
   ]
  },
  {
   "cell_type": "code",
   "execution_count": 28,
   "id": "497da570-897b-4827-a95a-c150ead4b45f",
   "metadata": {},
   "outputs": [
    {
     "data": {
      "text/plain": [
       "['productA', 'pB', 'Data-2', 4590.32]"
      ]
     },
     "execution_count": 28,
     "metadata": {},
     "output_type": "execute_result"
    }
   ],
   "source": [
    "L"
   ]
  },
  {
   "cell_type": "code",
   "execution_count": 29,
   "id": "553dbd76-77a6-461b-8b4d-f5260c44b2f8",
   "metadata": {},
   "outputs": [
    {
     "data": {
      "text/plain": [
       "'pB'"
      ]
     },
     "execution_count": 29,
     "metadata": {},
     "output_type": "execute_result"
    }
   ],
   "source": [
    "L.pop(1) # remove 1st index value"
   ]
  },
  {
   "cell_type": "code",
   "execution_count": 30,
   "id": "28146d75-a86c-4d49-bf98-7702b2be3e87",
   "metadata": {},
   "outputs": [
    {
     "name": "stdout",
     "output_type": "stream",
     "text": [
      "['productA', 'Data-2', 4590.32]\n"
     ]
    }
   ],
   "source": [
    "print(L)"
   ]
  },
  {
   "cell_type": "code",
   "execution_count": 31,
   "id": "00acd90a-faee-4ae9-b570-6d10c22136b6",
   "metadata": {},
   "outputs": [
    {
     "name": "stdout",
     "output_type": "stream",
     "text": [
      "{'pid': 'pA', 'pcost': 1345.32}\n"
     ]
    }
   ],
   "source": [
    "product={} # empty dictionary \n",
    "\n",
    "# To add new data to an existing dict\n",
    "# dictname[newKey] = value  (or) dictname.setdefault(newKey,Value) \n",
    "\n",
    "product['pid'] = 'pA'                  # adding new data to an existing dict\n",
    "product.setdefault('pcost',1345.32)    # adding new data to an existing dict\n",
    "print(product)"
   ]
  },
  {
   "cell_type": "code",
   "execution_count": null,
   "id": "fd43c3c9-b17c-4d03-977c-f021e7fc6fd7",
   "metadata": {},
   "outputs": [],
   "source": [
    "# dictname[oldKey] = updatedValue     # modification"
   ]
  },
  {
   "cell_type": "code",
   "execution_count": 32,
   "id": "6f09ffe5-a02b-44e2-977d-ff40a45d6d54",
   "metadata": {},
   "outputs": [
    {
     "name": "stdout",
     "output_type": "stream",
     "text": [
      "{'K1': 'V1', 'K2': 'Value-2', 'K3': 'V3'}\n"
     ]
    }
   ],
   "source": [
    "d={'K1':'V1','K2':'V2'}\n",
    "d['K3'] = 'V3'       # adding new data\n",
    "d['K2'] = 'Value-2'  # modification\n",
    "print(d)"
   ]
  },
  {
   "cell_type": "code",
   "execution_count": 33,
   "id": "dcf049b5-0426-4722-a097-092f0576b936",
   "metadata": {},
   "outputs": [
    {
     "data": {
      "text/plain": [
       "'Value-2'"
      ]
     },
     "execution_count": 33,
     "metadata": {},
     "output_type": "execute_result"
    }
   ],
   "source": [
    "# d.pop(inputKey) -> removedValue\n",
    "d.pop('K2')"
   ]
  },
  {
   "cell_type": "code",
   "execution_count": 34,
   "id": "95f89f7f-aa9d-4b65-90e8-142f72ed0bcd",
   "metadata": {},
   "outputs": [
    {
     "data": {
      "text/plain": [
       "{'K1': 'V1', 'K3': 'V3'}"
      ]
     },
     "execution_count": 34,
     "metadata": {},
     "output_type": "execute_result"
    }
   ],
   "source": [
    "d"
   ]
  },
  {
   "cell_type": "code",
   "execution_count": 37,
   "id": "e2fa4b0f-6ebd-4710-ba98-657590994160",
   "metadata": {},
   "outputs": [
    {
     "name": "stdout",
     "output_type": "stream",
     "text": [
      "<class 'dict'> {'pid': [], 'pname': [], 'pcost': []}\n"
     ]
    }
   ],
   "source": [
    "#list,tuple,dict\n",
    "#----------------\n",
    "#list of list/dict\n",
    "#dict of list/dict\n",
    "\n",
    "product={}\n",
    "\n",
    "product['pid'] = []\n",
    "product['pname'] = []\n",
    "product['pcost'] = []\n",
    "##############################  dict of list \n",
    "print(type(product),product)"
   ]
  },
  {
   "cell_type": "code",
   "execution_count": 38,
   "id": "8ceb9228-bc4c-4c86-80d9-c98e72294674",
   "metadata": {},
   "outputs": [
    {
     "data": {
      "text/plain": [
       "{'pid': ['p101', 'p102', 'p103'],\n",
       " 'pname': ['pA', 'pB', 'pC'],\n",
       " 'pcost': [1000, 2000, 3000]}"
      ]
     },
     "execution_count": 38,
     "metadata": {},
     "output_type": "execute_result"
    }
   ],
   "source": [
    "product['pid'].append('p101')\n",
    "product['pid'].append('p102')\n",
    "product['pid'].append('p103')\n",
    "\n",
    "product['pname'].append('pA')\n",
    "product['pname'].append('pB')\n",
    "product['pname'].append('pC')\n",
    "\n",
    "product['pcost'].append(1000)\n",
    "product['pcost'].append(2000)\n",
    "product['pcost'].append(3000)\n",
    "product"
   ]
  },
  {
   "cell_type": "code",
   "execution_count": 39,
   "id": "929acb6a-992e-446e-a2b5-d88e92b4ccc8",
   "metadata": {},
   "outputs": [
    {
     "name": "stdout",
     "output_type": "stream",
     "text": [
      "p101 pA 1000\n"
     ]
    }
   ],
   "source": [
    "print(product['pid'][0],product['pname'][0],product['pcost'][0])"
   ]
  },
  {
   "cell_type": "code",
   "execution_count": 40,
   "id": "a834dff3-a5ba-4a80-897e-1e4fac29ad71",
   "metadata": {},
   "outputs": [
    {
     "data": {
      "text/plain": [
       "{'pid': ['p101', 'p102', 'p103'],\n",
       " 'pname': ['pA', 'pB', 'pC'],\n",
       " 'pcost': [1250.32, 2000, 3000]}"
      ]
     },
     "execution_count": 40,
     "metadata": {},
     "output_type": "execute_result"
    }
   ],
   "source": [
    "product['pcost'][0] = 1250.32 # modification\n",
    "product"
   ]
  },
  {
   "cell_type": "code",
   "execution_count": 41,
   "id": "c870fbb3-d2d4-4024-88fb-c691f7b2d692",
   "metadata": {},
   "outputs": [
    {
     "data": {
      "text/plain": [
       "{'K1': {'pid': 101}, 'K2': {'pname': 'pA'}, 'K3': {'pcost': 1230}}"
      ]
     },
     "execution_count": 41,
     "metadata": {},
     "output_type": "execute_result"
    }
   ],
   "source": [
    "# dict of dict\n",
    "\n",
    "product={}\n",
    "product['K1']={'pid':101}\n",
    "product['K2']={'pname':'pA'}\n",
    "product['K3']={'pcost':1230}\n",
    "product"
   ]
  },
  {
   "cell_type": "code",
   "execution_count": 42,
   "id": "49df4c62-7662-4b81-8ae7-0c29de9e54c6",
   "metadata": {},
   "outputs": [
    {
     "data": {
      "text/plain": [
       "101"
      ]
     },
     "execution_count": 42,
     "metadata": {},
     "output_type": "execute_result"
    }
   ],
   "source": [
    "product['K1']['pid'] # dict of dict"
   ]
  },
  {
   "cell_type": "code",
   "execution_count": 43,
   "id": "86670cf7-85d8-41a7-b2cd-336d6044a87e",
   "metadata": {},
   "outputs": [
    {
     "data": {
      "text/plain": [
       "{'pK1': {'pid': 101, 'pname': 'pA', 'pcost': 1000},\n",
       " 'pK2': {'pid': 102, 'pname': 'pB', 'pcost': 2000},\n",
       " 'pK3': {'pid': 103, 'pname': 'pC', 'pcost': 3000}}"
      ]
     },
     "execution_count": 43,
     "metadata": {},
     "output_type": "execute_result"
    }
   ],
   "source": [
    "product={}\n",
    "product['pK1'] = {'pid':101,'pname':'pA','pcost':1000}\n",
    "product['pK2'] = {'pid':102,'pname':'pB','pcost':2000}\n",
    "product['pK3'] = {'pid':103,'pname':'pC','pcost':3000}\n",
    "product\n"
   ]
  },
  {
   "cell_type": "code",
   "execution_count": null,
   "id": "4678f545-401a-4fe4-b778-595aac390dd1",
   "metadata": {},
   "outputs": [],
   "source": [
    "T=(\"D1\",\"D2\") # 1D \n",
    "T=([],[],[],(),(),{},{}) # MD\n",
    "#  --------------------"
   ]
  },
  {
   "cell_type": "code",
   "execution_count": 44,
   "id": "3f54e07d-1aef-419d-9a25-d3a0160e2730",
   "metadata": {},
   "outputs": [
    {
     "data": {
      "text/plain": [
       "'data1'"
      ]
     },
     "execution_count": 44,
     "metadata": {},
     "output_type": "execute_result"
    }
   ],
   "source": [
    "def f1():\n",
    "    return \"data1\"\n",
    "\n",
    "f1()"
   ]
  },
  {
   "cell_type": "code",
   "execution_count": 45,
   "id": "7fd44bf1-98a6-4ac9-8b0d-73e8aea86d30",
   "metadata": {},
   "outputs": [
    {
     "data": {
      "text/plain": [
       "('data1',)"
      ]
     },
     "execution_count": 45,
     "metadata": {},
     "output_type": "execute_result"
    }
   ],
   "source": [
    "def f2():\n",
    "    return \"data1\",\n",
    "f2()"
   ]
  },
  {
   "cell_type": "code",
   "execution_count": 46,
   "id": "f67e2e59-379f-4d09-8cb9-ca5b05086a7b",
   "metadata": {},
   "outputs": [
    {
     "name": "stdout",
     "output_type": "stream",
     "text": [
      "{'pK1': {'pcost': 1000, 'pid': 101, 'pname': 'pA'},\n",
      " 'pK2': {'pcost': 2000, 'pid': 102, 'pname': 'pB'},\n",
      " 'pK3': {'pcost': 3000, 'pid': 103, 'pname': 'pC'}}\n"
     ]
    }
   ],
   "source": [
    "import pprint\n",
    "pprint.pprint(product)"
   ]
  },
  {
   "cell_type": "code",
   "execution_count": null,
   "id": "d592292c-ce88-4670-b477-35f0316353a5",
   "metadata": {},
   "outputs": [],
   "source": [
    "# Task\n",
    "# dict of list/dict - initialize product details to structure\n",
    "# using pprint() - display complex structure "
   ]
  },
  {
   "cell_type": "code",
   "execution_count": 48,
   "id": "16b2519f-cbe3-4660-9403-b4e85fdf7a97",
   "metadata": {},
   "outputs": [
    {
     "data": {
      "text/plain": [
       "{'p101': {'K1': 'V1', 'K2': 'V2'}}"
      ]
     },
     "execution_count": 48,
     "metadata": {},
     "output_type": "execute_result"
    }
   ],
   "source": [
    "product={}\n",
    "product['pID'] = []\n",
    "product['pname'] = []\n",
    "product['pcost']=[]\n",
    "\n",
    "product={}\n",
    "product['p101'] = {'K1':'V1','K2':'V2'}\n",
    "product"
   ]
  },
  {
   "cell_type": "code",
   "execution_count": null,
   "id": "a829335a-97c0-49f7-b09b-2599a38400dd",
   "metadata": {},
   "outputs": [],
   "source": [
    "dict of list\n",
    "|\n",
    "Key:  columns"
   ]
  },
  {
   "cell_type": "code",
   "execution_count": 50,
   "id": "9e926178-bef2-4c93-82c4-cec6ff84c200",
   "metadata": {},
   "outputs": [
    {
     "name": "stdout",
     "output_type": "stream",
     "text": [
      "{'pcost': [1000, 2000, 3000],\n",
      " 'pid': ['p101', 'p102', 'p103'],\n",
      " 'pname': ['pA', 'pB', 'pC']}\n"
     ]
    }
   ],
   "source": [
    "product={}\n",
    "\n",
    "product['pid'] = []\n",
    "product['pname'] = []\n",
    "product['pcost'] = []\n",
    "\n",
    "product['pid'].append('p101')\n",
    "product['pid'].append('p102')\n",
    "product['pid'].append('p103')\n",
    "\n",
    "product['pname'].append('pA')\n",
    "product['pname'].append('pB')\n",
    "product['pname'].append('pC')\n",
    "\n",
    "product['pcost'].append(1000)\n",
    "product['pcost'].append(2000)\n",
    "product['pcost'].append(3000)\n",
    "\n",
    "pprint.pprint(product)"
   ]
  },
  {
   "cell_type": "code",
   "execution_count": 51,
   "id": "8bf6b9c8-b5ff-4395-8197-cb65ebd69db9",
   "metadata": {},
   "outputs": [
    {
     "data": {
      "text/html": [
       "<div>\n",
       "<style scoped>\n",
       "    .dataframe tbody tr th:only-of-type {\n",
       "        vertical-align: middle;\n",
       "    }\n",
       "\n",
       "    .dataframe tbody tr th {\n",
       "        vertical-align: top;\n",
       "    }\n",
       "\n",
       "    .dataframe thead th {\n",
       "        text-align: right;\n",
       "    }\n",
       "</style>\n",
       "<table border=\"1\" class=\"dataframe\">\n",
       "  <thead>\n",
       "    <tr style=\"text-align: right;\">\n",
       "      <th></th>\n",
       "      <th>pid</th>\n",
       "      <th>pname</th>\n",
       "      <th>pcost</th>\n",
       "    </tr>\n",
       "  </thead>\n",
       "  <tbody>\n",
       "    <tr>\n",
       "      <th>0</th>\n",
       "      <td>p101</td>\n",
       "      <td>pA</td>\n",
       "      <td>1000</td>\n",
       "    </tr>\n",
       "    <tr>\n",
       "      <th>1</th>\n",
       "      <td>p102</td>\n",
       "      <td>pB</td>\n",
       "      <td>2000</td>\n",
       "    </tr>\n",
       "    <tr>\n",
       "      <th>2</th>\n",
       "      <td>p103</td>\n",
       "      <td>pC</td>\n",
       "      <td>3000</td>\n",
       "    </tr>\n",
       "  </tbody>\n",
       "</table>\n",
       "</div>"
      ],
      "text/plain": [
       "    pid pname  pcost\n",
       "0  p101    pA   1000\n",
       "1  p102    pB   2000\n",
       "2  p103    pC   3000"
      ]
     },
     "execution_count": 51,
     "metadata": {},
     "output_type": "execute_result"
    }
   ],
   "source": [
    "import pandas \n",
    "pandas.DataFrame(product)"
   ]
  },
  {
   "cell_type": "code",
   "execution_count": null,
   "id": "99223cce-b14a-4e6d-8303-ae5fca9bd3f0",
   "metadata": {},
   "outputs": [],
   "source": [
    "python native type/class ; operators ; conditional ; looping ; filehandling ; functions - level1\n",
    "\n",
    "python oops style   - level2 \n",
    "-------------------\n",
    "class   - type\n",
    "object  - real entity\n",
    "method  - user defined function\n",
    "inheritance  - class reusability\n",
    "\n",
    "class className:\n",
    "    <class attributes>\n",
    "\n",
    "\n",
    "className.<attribute> \n",
    "             |->undefined => AttributeError Vs NameError"
   ]
  },
  {
   "cell_type": "code",
   "execution_count": 54,
   "id": "181372e9-fadb-4b25-b874-68a51009bcaf",
   "metadata": {},
   "outputs": [
    {
     "name": "stdout",
     "output_type": "stream",
     "text": [
      "Django\n"
     ]
    },
    {
     "ename": "AttributeError",
     "evalue": "type object 'app1' has no attribute 'Myapp'",
     "output_type": "error",
     "traceback": [
      "\u001b[1;31m---------------------------------------------------------------------------\u001b[0m",
      "\u001b[1;31mAttributeError\u001b[0m                            Traceback (most recent call last)",
      "Cell \u001b[1;32mIn[54], line 5\u001b[0m\n\u001b[0;32m      2\u001b[0m     myapp \u001b[38;5;241m=\u001b[39m \u001b[38;5;124m\"\u001b[39m\u001b[38;5;124mDjango\u001b[39m\u001b[38;5;124m\"\u001b[39m\n\u001b[0;32m      4\u001b[0m \u001b[38;5;28mprint\u001b[39m(app1\u001b[38;5;241m.\u001b[39mmyapp)\n\u001b[1;32m----> 5\u001b[0m \u001b[38;5;28mprint\u001b[39m(app1\u001b[38;5;241m.\u001b[39mMyapp)\n",
      "\u001b[1;31mAttributeError\u001b[0m: type object 'app1' has no attribute 'Myapp'"
     ]
    }
   ],
   "source": [
    "class app1:\n",
    "    myapp = \"Django\"\n",
    "\n",
    "print(app1.myapp)\n",
    "print(app1.Myapp)"
   ]
  },
  {
   "cell_type": "code",
   "execution_count": 56,
   "id": "7fbc2c3e-12a9-443d-becf-7e0135a65b42",
   "metadata": {},
   "outputs": [
    {
     "name": "stdout",
     "output_type": "stream",
     "text": [
      "101 pA\n",
      "\n",
      "\n",
      "101 pB\n",
      "1000Rs\n"
     ]
    }
   ],
   "source": [
    "# python user defined class is mutable\n",
    "class product:\n",
    "    pid = 101\n",
    "    pname = 'pA'\n",
    "\n",
    "print(product.pid,product.pname)\n",
    "product.pname = 'pB' # we can modify\n",
    "product.pcost = '1000Rs' # we can add new data\n",
    "print('\\n')\n",
    "print(product.pid,product.pname)\n",
    "print(product.pcost)"
   ]
  },
  {
   "cell_type": "code",
   "execution_count": null,
   "id": "5d36c1b4-cabf-4e27-9eac-254240cf8b50",
   "metadata": {},
   "outputs": [],
   "source": [
    "+------------------------------+\n",
    "|                              |  blueprint sheet  \n",
    "|                              |\n",
    "+------------------------------+\n",
    "   |                   |\n",
    "   |                   |\n",
    " +==============+    +===================+\n",
    " |              |     |                  |\n",
    " |              |     |                  | ... //object\n",
    "+===============+    +===================\n",
    "    "
   ]
  },
  {
   "cell_type": "code",
   "execution_count": 57,
   "id": "56a3c46e-8722-4aa8-afc5-5a4bc2f92262",
   "metadata": {},
   "outputs": [],
   "source": [
    "class product:\n",
    "    pname = ''\n",
    "    pcost = '0.0Rs'\n"
   ]
  },
  {
   "cell_type": "code",
   "execution_count": 59,
   "id": "3119c882-392e-4d36-a74c-cd3f2a90b6c1",
   "metadata": {},
   "outputs": [
    {
     "name": "stdout",
     "output_type": "stream",
     "text": [
      "pA pB\n"
     ]
    }
   ],
   "source": [
    "obj1 = product()\n",
    "obj2 = product()\n",
    "obj3 = product()\n",
    "\n",
    "obj1.pname='pA'\n",
    "obj1.pcost=1000 # object based initialization\n",
    "\n",
    "obj2.pname='pB'\n",
    "obj2.pcost=2000\n",
    "# object based initialization\n",
    "\n",
    "print(obj1.pname,obj2.pname)"
   ]
  },
  {
   "cell_type": "code",
   "execution_count": null,
   "id": "f02210b4-ac91-4f2f-b4c1-277ee6d406ef",
   "metadata": {},
   "outputs": [],
   "source": []
  }
 ],
 "metadata": {
  "kernelspec": {
   "display_name": "Python [conda env:base] *",
   "language": "python",
   "name": "conda-base-py"
  },
  "language_info": {
   "codemirror_mode": {
    "name": "ipython",
    "version": 3
   },
   "file_extension": ".py",
   "mimetype": "text/x-python",
   "name": "python",
   "nbconvert_exporter": "python",
   "pygments_lexer": "ipython3",
   "version": "3.13.5"
  }
 },
 "nbformat": 4,
 "nbformat_minor": 5
}
